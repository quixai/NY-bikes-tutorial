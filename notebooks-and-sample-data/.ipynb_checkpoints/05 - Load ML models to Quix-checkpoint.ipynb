{
 "cells": [
  {
   "cell_type": "markdown",
   "metadata": {},
   "source": [
    "# 05 - Load ML models to Quix"
   ]
  },
  {
   "cell_type": "markdown",
   "metadata": {},
   "source": [
    "This notebook helps you use the Quix's API to load the ML models (1h ahead predictions and 1d ahead predictions) to a Quix repository (project).\n",
    "\n",
    "STEPS:\n",
    "\n",
    "- 05.01 - Import libraries\n",
    "- 05.02 - Import models\n",
    "- 05.03 - Load model into Quix"
   ]
  },
  {
   "cell_type": "markdown",
   "metadata": {},
   "source": [
    "# 05.01 Import Libraries\n",
    "Let's import the libraries we will be using."
   ]
  },
  {
   "cell_type": "code",
   "execution_count": null,
   "metadata": {},
   "outputs": [],
   "source": [
    "import pandas as pd\n",
    "import pickle\n",
    "import pytz\n",
    "from dateutil import tz\n",
    "from datetime import datetime,  timezone, timedelta"
   ]
  },
  {
   "cell_type": "code",
   "execution_count": null,
   "metadata": {},
   "outputs": [],
   "source": [
    "import seaborn as sns\n",
    "import matplotlib.pyplot as plt\n",
    "plt.rcParams[\"figure.figsize\"] = (20,5)\n",
    "sns.set()"
   ]
  },
  {
   "cell_type": "markdown",
   "metadata": {},
   "source": [
    "# 05.02 Import models\n",
    "Import the dictionary with the xgboost models and list of feature variables used."
   ]
  },
  {
   "cell_type": "code",
   "execution_count": null,
   "metadata": {},
   "outputs": [],
   "source": [
    "# Check that it has been saved propperly. Load it and inspect it:\n",
    "with open('ML_1h_Forecast.pickle', 'rb') as handle:\n",
    "    dic_model_1h = pickle.load(handle)\n",
    "    \n",
    "display(dic_model_1h['model'])\n",
    "display(dic_model_1h['variables'])"
   ]
  },
  {
   "cell_type": "code",
   "execution_count": null,
   "metadata": {},
   "outputs": [],
   "source": [
    "# Check that it has been saved propperly. Load it and inspect it:\n",
    "with open('ML_1day_Forecast.pickle', 'rb') as handle:\n",
    "    dic_model_1d = pickle.load(handle)\n",
    "    \n",
    "display(dic_model_1d['model'])\n",
    "display(dic_model_1d['variables'])"
   ]
  },
  {
   "cell_type": "markdown",
   "metadata": {},
   "source": [
    "# 05.03 Load models to Quix\n",
    "Let's use the provided function (that uses Quix's API) to load our model into the Quix code repository."
   ]
  },
  {
   "cell_type": "code",
   "execution_count": null,
   "metadata": {},
   "outputs": [],
   "source": [
    "from ML_Model_Save_FUNCTION import save_ML_model"
   ]
  },
  {
   "cell_type": "markdown",
   "metadata": {},
   "source": [
    "### 05.03.01 One hour ahead model"
   ]
  },
  {
   "cell_type": "code",
   "execution_count": null,
   "metadata": {},
   "outputs": [],
   "source": [
    "token = \"{placeholder:token}\"                            # token you've created\n",
    "workspace = \"{placeholder:workspace_id}\"                 # click the home page in your Quix workspace and check the url(workspace=_______)\n",
    "project = \"{placeholder:code_project_name}\"              # i.e.\"NY-real-time-predictions\"\n",
    "\n",
    "save_ML_model(dic_model_1h, \"ML_1h_Forecast\", workspace, project, token)"
   ]
  },
  {
   "cell_type": "markdown",
   "metadata": {},
   "source": [
    "### 05.03.01 One day ahead model"
   ]
  },
  {
   "cell_type": "code",
   "execution_count": null,
   "metadata": {},
   "outputs": [],
   "source": [
    "token = \"{placeholder:token}\"                            # token you've created\n",
    "workspace = \"{placeholder:workspace_id}\"                 # check the url in your Quix page (workspace=_______)\n",
    "project = \"{placeholder:code_project_name}\"              # i.e.\"NY-real-time-predictions\"\n",
    "\n",
    "save_ML_model(dic_model_1d, \"ML_1day_Forecast\", workspace, project, token)"
   ]
  }
 ],
 "metadata": {
  "kernelspec": {
   "display_name": "Python 3",
   "language": "python",
   "name": "python3"
  },
  "language_info": {
   "codemirror_mode": {
    "name": "ipython",
    "version": 3
   },
   "file_extension": ".py",
   "mimetype": "text/x-python",
   "name": "python",
   "nbconvert_exporter": "python",
   "pygments_lexer": "ipython3",
   "version": "3.8.5"
  }
 },
 "nbformat": 4,
 "nbformat_minor": 4
}
