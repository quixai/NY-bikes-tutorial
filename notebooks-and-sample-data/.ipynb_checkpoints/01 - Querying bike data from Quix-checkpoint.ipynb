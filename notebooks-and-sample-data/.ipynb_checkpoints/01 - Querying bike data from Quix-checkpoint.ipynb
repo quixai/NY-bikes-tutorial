{
 "cells": [
  {
   "cell_type": "markdown",
   "metadata": {},
   "source": [
    "# 01 - Querying bike data from Quix"
   ]
  },
  {
   "cell_type": "markdown",
   "metadata": {},
   "source": [
    "This notebook helps you query your bike data from Quix.\n",
    "\n",
    "STEPS:\n",
    "\n",
    "- 01.01 - Import libraries\n",
    "- 01.02 - Get the code\n",
    "- 01.03 - Visualize data\n",
    "- 01.04 - Save locally"
   ]
  },
  {
   "cell_type": "markdown",
   "metadata": {},
   "source": [
    "# 01.01 - Import libraries\n",
    "Import some python libraries that we will use in this jupyter notebook."
   ]
  },
  {
   "cell_type": "code",
   "execution_count": 1,
   "metadata": {},
   "outputs": [],
   "source": [
    "import pandas as pd\n",
    "import pytz\n",
    "from dateutil import tz"
   ]
  },
  {
   "cell_type": "code",
   "execution_count": 2,
   "metadata": {},
   "outputs": [],
   "source": [
    "import seaborn as sns\n",
    "import matplotlib.pyplot as plt\n",
    "plt.rcParams[\"figure.figsize\"] = (20,5)\n",
    "sns.set()"
   ]
  },
  {
   "cell_type": "markdown",
   "metadata": {},
   "source": [
    "# 01.02 - Get the code\n",
    "There is an easy way to get the code that you need to query the data you are storing in Quix:\n",
    "<img style=\"float: right;\" src=\"VisualizeSelection.PNG\" width=\"300\">\n",
    "- 1) Go to the Data Explorer page\n",
    "- 2) Select the bikes stream in the ny-real-time-bikes-topic. It should be named something like New York Total Bikes Real Time.\n",
    "- 3) As for parameters, select total_num_bikes_available.\n",
    "- 4) Ensure you are selecting all the dates.\n",
    "- 5) Click the \"<> CODE\" tab and copy the code.\n",
    "- 6) Paste the code in the following cell in this Notebook, replacing the existing placeholder code:"
   ]
  },
  {
   "cell_type": "code",
   "execution_count": null,
   "metadata": {},
   "outputs": [],
   "source": [
    "# REPLACE THIS PLACEHOLDER CODE\n",
    "import requests\n",
    "import pandas as pd\n",
    "import io\n",
    "\n",
    "url = \"https://telemetry-query-{placeholder:workspace-id}.platform.quix.ai/parameters/data\"\n",
    "token = \"{placeholder:token}\"\n",
    "head = {'Authorization': 'Bearer {}'.format(token), 'Accept': \"application/csv\"}\n",
    "payload = {\n",
    "    'numericParameters': [\n",
    "        {\n",
    "            'parameterName': 'total_num_bikes_available',\n",
    "            'aggregationType': 'None'\n",
    "        }\n",
    "    ],\n",
    "    'stringParameters': [],\n",
    "    'streamIds': [\n",
    "        'NY-Real-Time-Bikes'\n",
    "    ],\n",
    "    'eventIds': [],\n",
    "    'tagFilters': [],\n",
    "    'groupBy': []\n",
    "}\n",
    "\n",
    "response = requests.post(url, headers=head, json=payload)\n",
    "\n",
    "df = pd.read_csv(io.StringIO(response.content.decode('utf-8')))\n",
    "\n",
    "with pd.option_context('display.max_rows', None, 'display.max_columns', None):\n",
    "    print(df)"
   ]
  },
  {
   "cell_type": "markdown",
   "metadata": {},
   "source": [
    "# 01.03 Visualize data\n",
    "Let's have a quick look to the data we have just imported."
   ]
  },
  {
   "cell_type": "code",
   "execution_count": 5,
   "metadata": {},
   "outputs": [
    {
     "data": {
      "text/html": [
       "<div>\n",
       "<style scoped>\n",
       "    .dataframe tbody tr th:only-of-type {\n",
       "        vertical-align: middle;\n",
       "    }\n",
       "\n",
       "    .dataframe tbody tr th {\n",
       "        vertical-align: top;\n",
       "    }\n",
       "\n",
       "    .dataframe thead th {\n",
       "        text-align: right;\n",
       "    }\n",
       "</style>\n",
       "<table border=\"1\" class=\"dataframe\">\n",
       "  <thead>\n",
       "    <tr style=\"text-align: right;\">\n",
       "      <th></th>\n",
       "      <th>Timestamp</th>\n",
       "      <th>total_num_bikes_available</th>\n",
       "    </tr>\n",
       "  </thead>\n",
       "  <tbody>\n",
       "    <tr>\n",
       "      <th>0</th>\n",
       "      <td>1629828183677116000</td>\n",
       "      <td>20003</td>\n",
       "    </tr>\n",
       "    <tr>\n",
       "      <th>1</th>\n",
       "      <td>1629828187858983000</td>\n",
       "      <td>20003</td>\n",
       "    </tr>\n",
       "    <tr>\n",
       "      <th>2</th>\n",
       "      <td>1629828192586012000</td>\n",
       "      <td>20003</td>\n",
       "    </tr>\n",
       "    <tr>\n",
       "      <th>3</th>\n",
       "      <td>1629828197180727000</td>\n",
       "      <td>19995</td>\n",
       "    </tr>\n",
       "    <tr>\n",
       "      <th>4</th>\n",
       "      <td>1629828201820268000</td>\n",
       "      <td>19995</td>\n",
       "    </tr>\n",
       "  </tbody>\n",
       "</table>\n",
       "</div>"
      ],
      "text/plain": [
       "             Timestamp  total_num_bikes_available\n",
       "0  1629828183677116000                      20003\n",
       "1  1629828187858983000                      20003\n",
       "2  1629828192586012000                      20003\n",
       "3  1629828197180727000                      19995\n",
       "4  1629828201820268000                      19995"
      ]
     },
     "execution_count": 5,
     "metadata": {},
     "output_type": "execute_result"
    }
   ],
   "source": [
    "df.head()"
   ]
  },
  {
   "cell_type": "code",
   "execution_count": 7,
   "metadata": {},
   "outputs": [
    {
     "data": {
      "text/html": [
       "<div>\n",
       "<style scoped>\n",
       "    .dataframe tbody tr th:only-of-type {\n",
       "        vertical-align: middle;\n",
       "    }\n",
       "\n",
       "    .dataframe tbody tr th {\n",
       "        vertical-align: top;\n",
       "    }\n",
       "\n",
       "    .dataframe thead th {\n",
       "        text-align: right;\n",
       "    }\n",
       "</style>\n",
       "<table border=\"1\" class=\"dataframe\">\n",
       "  <thead>\n",
       "    <tr style=\"text-align: right;\">\n",
       "      <th></th>\n",
       "      <th>Timestamp</th>\n",
       "      <th>total_num_bikes_available</th>\n",
       "    </tr>\n",
       "  </thead>\n",
       "  <tbody>\n",
       "    <tr>\n",
       "      <th>0</th>\n",
       "      <td>2021-08-24 18:03:03.677116</td>\n",
       "      <td>20003</td>\n",
       "    </tr>\n",
       "    <tr>\n",
       "      <th>1</th>\n",
       "      <td>2021-08-24 18:03:07.858983</td>\n",
       "      <td>20003</td>\n",
       "    </tr>\n",
       "    <tr>\n",
       "      <th>2</th>\n",
       "      <td>2021-08-24 18:03:12.586012</td>\n",
       "      <td>20003</td>\n",
       "    </tr>\n",
       "    <tr>\n",
       "      <th>3</th>\n",
       "      <td>2021-08-24 18:03:17.180727</td>\n",
       "      <td>19995</td>\n",
       "    </tr>\n",
       "    <tr>\n",
       "      <th>4</th>\n",
       "      <td>2021-08-24 18:03:21.820268</td>\n",
       "      <td>19995</td>\n",
       "    </tr>\n",
       "  </tbody>\n",
       "</table>\n",
       "</div>"
      ],
      "text/plain": [
       "                   Timestamp  total_num_bikes_available\n",
       "0 2021-08-24 18:03:03.677116                      20003\n",
       "1 2021-08-24 18:03:07.858983                      20003\n",
       "2 2021-08-24 18:03:12.586012                      20003\n",
       "3 2021-08-24 18:03:17.180727                      19995\n",
       "4 2021-08-24 18:03:21.820268                      19995"
      ]
     },
     "execution_count": 7,
     "metadata": {},
     "output_type": "execute_result"
    }
   ],
   "source": [
    "df['Timestamp'] = pd.to_datetime(df['Timestamp'])\n",
    "df.head()"
   ]
  },
  {
   "cell_type": "code",
   "execution_count": 10,
   "metadata": {},
   "outputs": [
    {
     "data": {
      "image/png": "[encoded data removed]",
      "text/plain": [
       "<Figure size 1440x360 with 1 Axes>"
      ]
     },
     "metadata": {},
     "output_type": "display_data"
    }
   ],
   "source": [
    "plt.plot(df['Timestamp'], df['total_num_bikes_available'], label='total_num_bikes_available')\n",
    "plt.legend()\n",
    "plt.show()"
   ]
  },
  {
   "cell_type": "markdown",
   "metadata": {},
   "source": [
    "Most probably you will have just created this stream and the historic data is very limited. Don't worry, we are providing some sample data in this example so that your historic data range is longer."
   ]
  },
  {
   "cell_type": "markdown",
   "metadata": {},
   "source": [
    "# 01.04 - Save locally\n",
    "Let's now save this bikes data locally:"
   ]
  },
  {
   "cell_type": "code",
   "execution_count": 5,
   "metadata": {},
   "outputs": [],
   "source": [
    "df.to_csv('sample-data/MY-QUIX-DATA__bikes.csv', index=False)"
   ]
  }
 ],
 "metadata": {
  "kernelspec": {
   "display_name": "Python 3",
   "language": "python",
   "name": "python3"
  },
  "language_info": {
   "codemirror_mode": {
    "name": "ipython",
    "version": 3
   },
   "file_extension": ".py",
   "mimetype": "text/x-python",
   "name": "python",
   "nbconvert_exporter": "python",
   "pygments_lexer": "ipython3",
   "version": "3.8.5"
  }
 },
 "nbformat": 4,
 "nbformat_minor": 4
}
